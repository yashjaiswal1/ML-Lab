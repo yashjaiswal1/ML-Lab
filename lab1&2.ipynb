{
 "cells": [
  {
   "cell_type": "code",
   "execution_count": 1,
   "id": "0c4efea8",
   "metadata": {},
   "outputs": [
    {
     "name": "stdout",
     "output_type": "stream",
     "text": [
      "Hello, world!\n"
     ]
    }
   ],
   "source": [
    "print(\"Hello, world!\")"
   ]
  },
  {
   "cell_type": "code",
   "execution_count": 2,
   "id": "8446eaef",
   "metadata": {},
   "outputs": [],
   "source": [
    "l = [\"string\", -1, True, 3.14]"
   ]
  },
  {
   "cell_type": "code",
   "execution_count": 3,
   "id": "f46056ed",
   "metadata": {},
   "outputs": [
    {
     "name": "stdout",
     "output_type": "stream",
     "text": [
      "['string', -1, True, 3.14]\n"
     ]
    }
   ],
   "source": [
    "print(l)"
   ]
  },
  {
   "cell_type": "code",
   "execution_count": 4,
   "id": "5c988177",
   "metadata": {},
   "outputs": [
    {
     "name": "stdout",
     "output_type": "stream",
     "text": [
      "string 3.14\n"
     ]
    }
   ],
   "source": [
    "print(l[0], l[-1])"
   ]
  },
  {
   "cell_type": "code",
   "execution_count": 5,
   "id": "ccddcdd4",
   "metadata": {},
   "outputs": [],
   "source": [
    "l.append(\"new value\")"
   ]
  },
  {
   "cell_type": "code",
   "execution_count": 6,
   "id": "f50cb4cd",
   "metadata": {},
   "outputs": [
    {
     "data": {
      "text/plain": [
       "['string', -1, True, 3.14, 'new value']"
      ]
     },
     "execution_count": 6,
     "metadata": {},
     "output_type": "execute_result"
    }
   ],
   "source": [
    "l"
   ]
  },
  {
   "cell_type": "code",
   "execution_count": 7,
   "id": "f7c967bd",
   "metadata": {},
   "outputs": [
    {
     "ename": "TypeError",
     "evalue": "'str' object cannot be interpreted as an integer",
     "output_type": "error",
     "traceback": [
      "\u001b[0;31m---------------------------------------------------------------------------\u001b[0m",
      "\u001b[0;31mTypeError\u001b[0m                                 Traceback (most recent call last)",
      "\u001b[0;32m<ipython-input-7-6a402afa5394>\u001b[0m in \u001b[0;36m<module>\u001b[0;34m\u001b[0m\n\u001b[0;32m----> 1\u001b[0;31m \u001b[0ml\u001b[0m\u001b[0;34m.\u001b[0m\u001b[0minsert\u001b[0m\u001b[0;34m(\u001b[0m\u001b[0;34m\"inserted value\"\u001b[0m\u001b[0;34m,\u001b[0m \u001b[0;36m1\u001b[0m\u001b[0;34m)\u001b[0m\u001b[0;34m\u001b[0m\u001b[0;34m\u001b[0m\u001b[0m\n\u001b[0m",
      "\u001b[0;31mTypeError\u001b[0m: 'str' object cannot be interpreted as an integer"
     ]
    }
   ],
   "source": [
    "l.insert(\"inserted value\", 1)"
   ]
  },
  {
   "cell_type": "code",
   "execution_count": 8,
   "id": "b4ad953d",
   "metadata": {},
   "outputs": [
    {
     "ename": "TypeError",
     "evalue": "insert expected 2 arguments, got 1",
     "output_type": "error",
     "traceback": [
      "\u001b[0;31m---------------------------------------------------------------------------\u001b[0m",
      "\u001b[0;31mTypeError\u001b[0m                                 Traceback (most recent call last)",
      "\u001b[0;32m<ipython-input-8-7eabc9662b7f>\u001b[0m in \u001b[0;36m<module>\u001b[0;34m\u001b[0m\n\u001b[0;32m----> 1\u001b[0;31m \u001b[0ml\u001b[0m\u001b[0;34m.\u001b[0m\u001b[0minsert\u001b[0m\u001b[0;34m(\u001b[0m\u001b[0;36m101\u001b[0m\u001b[0;34m)\u001b[0m\u001b[0;34m\u001b[0m\u001b[0;34m\u001b[0m\u001b[0m\n\u001b[0m",
      "\u001b[0;31mTypeError\u001b[0m: insert expected 2 arguments, got 1"
     ]
    }
   ],
   "source": [
    "l.insert(101)"
   ]
  },
  {
   "cell_type": "code",
   "execution_count": 9,
   "id": "83208329",
   "metadata": {},
   "outputs": [],
   "source": [
    "l.insert(101, 1)"
   ]
  },
  {
   "cell_type": "code",
   "execution_count": 10,
   "id": "e8beb2cb",
   "metadata": {},
   "outputs": [
    {
     "data": {
      "text/plain": [
       "['string', -1, True, 3.14, 'new value', 1]"
      ]
     },
     "execution_count": 10,
     "metadata": {},
     "output_type": "execute_result"
    }
   ],
   "source": [
    "l"
   ]
  },
  {
   "cell_type": "code",
   "execution_count": 11,
   "id": "c37c9d83",
   "metadata": {},
   "outputs": [
    {
     "ename": "TypeError",
     "evalue": "insert expected 2 arguments, got 1",
     "output_type": "error",
     "traceback": [
      "\u001b[0;31m---------------------------------------------------------------------------\u001b[0m",
      "\u001b[0;31mTypeError\u001b[0m                                 Traceback (most recent call last)",
      "\u001b[0;32m<ipython-input-11-4928ed56af76>\u001b[0m in \u001b[0;36m<module>\u001b[0;34m\u001b[0m\n\u001b[0;32m----> 1\u001b[0;31m \u001b[0ml\u001b[0m\u001b[0;34m.\u001b[0m\u001b[0minsert\u001b[0m\u001b[0;34m(\u001b[0m\u001b[0;36m1\u001b[0m\u001b[0;34m)\u001b[0m\u001b[0;34m\u001b[0m\u001b[0;34m\u001b[0m\u001b[0m\n\u001b[0m",
      "\u001b[0;31mTypeError\u001b[0m: insert expected 2 arguments, got 1"
     ]
    }
   ],
   "source": [
    "l.insert(1)"
   ]
  },
  {
   "cell_type": "code",
   "execution_count": 12,
   "id": "0749377a",
   "metadata": {},
   "outputs": [],
   "source": [
    "l.insert(1, \"value\")"
   ]
  },
  {
   "cell_type": "code",
   "execution_count": 13,
   "id": "4c86255d",
   "metadata": {},
   "outputs": [
    {
     "data": {
      "text/plain": [
       "['string', 'value', -1, True, 3.14, 'new value', 1]"
      ]
     },
     "execution_count": 13,
     "metadata": {},
     "output_type": "execute_result"
    }
   ],
   "source": [
    "l"
   ]
  },
  {
   "cell_type": "code",
   "execution_count": 14,
   "id": "c0c3a01d",
   "metadata": {},
   "outputs": [],
   "source": [
    "l.insert(-1, \"last value\")"
   ]
  },
  {
   "cell_type": "code",
   "execution_count": 15,
   "id": "bacf3afe",
   "metadata": {},
   "outputs": [
    {
     "data": {
      "text/plain": [
       "['string', 'value', -1, True, 3.14, 'new value', 'last value', 1]"
      ]
     },
     "execution_count": 15,
     "metadata": {},
     "output_type": "execute_result"
    }
   ],
   "source": [
    "l"
   ]
  },
  {
   "cell_type": "code",
   "execution_count": 16,
   "id": "e1d58e89",
   "metadata": {},
   "outputs": [],
   "source": [
    "var1 = 1\n",
    "var2 = -1"
   ]
  },
  {
   "cell_type": "code",
   "execution_count": 17,
   "id": "b13414ee",
   "metadata": {},
   "outputs": [],
   "source": [
    "def checkIfGreater(var1, var2):\n",
    "    if var1 > var2:\n",
    "        print(\"var1 is greater\")\n",
    "    elif var2 > var1:\n",
    "        print(\"var2 is greater\")\n",
    "    else:\n",
    "        print(\"var1 is equal to var2\")"
   ]
  },
  {
   "cell_type": "code",
   "execution_count": 18,
   "id": "c88683b3",
   "metadata": {},
   "outputs": [
    {
     "name": "stdout",
     "output_type": "stream",
     "text": [
      "var1 is greater\n"
     ]
    }
   ],
   "source": [
    "checkIfGreater(10,2)"
   ]
  },
  {
   "cell_type": "code",
   "execution_count": 19,
   "id": "9cac5c4a",
   "metadata": {},
   "outputs": [
    {
     "name": "stdout",
     "output_type": "stream",
     "text": [
      "var2 is greater\n"
     ]
    }
   ],
   "source": [
    "checkIfGreater(2,10)"
   ]
  },
  {
   "cell_type": "code",
   "execution_count": 20,
   "id": "be70355b",
   "metadata": {},
   "outputs": [
    {
     "name": "stdout",
     "output_type": "stream",
     "text": [
      "var1 is equal to var2\n"
     ]
    }
   ],
   "source": [
    "checkIfGreater(2,2)"
   ]
  },
  {
   "cell_type": "code",
   "execution_count": 21,
   "id": "c2416688",
   "metadata": {},
   "outputs": [
    {
     "name": "stdout",
     "output_type": "stream",
     "text": [
      "1\n",
      "3\n",
      "5\n",
      "7\n"
     ]
    }
   ],
   "source": [
    "l = [1,3,5,7]\n",
    "for i in l:\n",
    "    print(i)"
   ]
  },
  {
   "cell_type": "code",
   "execution_count": 22,
   "id": "2f2541c6",
   "metadata": {},
   "outputs": [
    {
     "name": "stdout",
     "output_type": "stream",
     "text": [
      "10 11\n"
     ]
    }
   ],
   "source": [
    "a = 10\n",
    "b = 11\n",
    "print(a,b)"
   ]
  },
  {
   "cell_type": "code",
   "execution_count": 23,
   "id": "5efce35f",
   "metadata": {},
   "outputs": [
    {
     "name": "stdout",
     "output_type": "stream",
     "text": [
      "11 10\n"
     ]
    }
   ],
   "source": [
    "a,b = b,a\n",
    "print(a,b)"
   ]
  },
  {
   "cell_type": "code",
   "execution_count": 24,
   "id": "e15afd75",
   "metadata": {},
   "outputs": [],
   "source": [
    "def isStringEqual(s1, s2):\n",
    "    if len(s1) != len(s2):\n",
    "        return False\n",
    "    else:\n",
    "        for i in range(len(s1)):\n",
    "            if s1[i] != s2[i]:\n",
    "                return False\n",
    "    return True"
   ]
  },
  {
   "cell_type": "code",
   "execution_count": 25,
   "id": "d56f32ca",
   "metadata": {},
   "outputs": [
    {
     "data": {
      "text/plain": [
       "True"
      ]
     },
     "execution_count": 25,
     "metadata": {},
     "output_type": "execute_result"
    }
   ],
   "source": [
    "isStringEqual(\"hello\",\"hello\")"
   ]
  },
  {
   "cell_type": "code",
   "execution_count": 26,
   "id": "4ad06491",
   "metadata": {},
   "outputs": [
    {
     "data": {
      "text/plain": [
       "False"
      ]
     },
     "execution_count": 26,
     "metadata": {},
     "output_type": "execute_result"
    }
   ],
   "source": [
    "isStringEqual(\"hello\",\"pello\")"
   ]
  },
  {
   "cell_type": "code",
   "execution_count": 27,
   "id": "dd7e3227",
   "metadata": {},
   "outputs": [
    {
     "data": {
      "text/plain": [
       "False"
      ]
     },
     "execution_count": 27,
     "metadata": {},
     "output_type": "execute_result"
    }
   ],
   "source": [
    "isStringEqual(\"hello\",\"ello\")"
   ]
  },
  {
   "cell_type": "code",
   "execution_count": 28,
   "id": "80fd1896",
   "metadata": {},
   "outputs": [
    {
     "data": {
      "text/plain": [
       "True"
      ]
     },
     "execution_count": 28,
     "metadata": {},
     "output_type": "execute_result"
    }
   ],
   "source": [
    "isStringEqual(\"\",\"\")"
   ]
  },
  {
   "cell_type": "code",
   "execution_count": 29,
   "id": "52dcf81d",
   "metadata": {},
   "outputs": [],
   "source": [
    "def stringReverse(s):\n",
    "    if len(s) == 0:\n",
    "        return \"\"\n",
    "    else:\n",
    "        result = []\n",
    "        for i in range(0,len(s),-1):\n",
    "            result.append(s[i])\n",
    "    return \"\".join(result)"
   ]
  },
  {
   "cell_type": "code",
   "execution_count": 30,
   "id": "50267902",
   "metadata": {},
   "outputs": [
    {
     "data": {
      "text/plain": [
       "''"
      ]
     },
     "execution_count": 30,
     "metadata": {},
     "output_type": "execute_result"
    }
   ],
   "source": [
    "stringReverse(\"hello\")"
   ]
  },
  {
   "cell_type": "code",
   "execution_count": 31,
   "id": "7353dfe2",
   "metadata": {},
   "outputs": [],
   "source": [
    "def stringReverse(s):\n",
    "    if len(s) == 0:\n",
    "        return \"\"\n",
    "    else:\n",
    "        result = \"\"\n",
    "        for i in range(0,len(s),-1):\n",
    "            result += s[i]\n",
    "    return result"
   ]
  },
  {
   "cell_type": "code",
   "execution_count": 32,
   "id": "7f981b02",
   "metadata": {},
   "outputs": [
    {
     "data": {
      "text/plain": [
       "''"
      ]
     },
     "execution_count": 32,
     "metadata": {},
     "output_type": "execute_result"
    }
   ],
   "source": [
    "stringReverse(\"abc\")"
   ]
  },
  {
   "cell_type": "code",
   "execution_count": 33,
   "id": "f858df58",
   "metadata": {},
   "outputs": [],
   "source": [
    "def stringReverse(s):\n",
    "    result = \"\"\n",
    "    for i in range(0,len(s),-1):\n",
    "        result += s[i]\n",
    "    return result"
   ]
  },
  {
   "cell_type": "code",
   "execution_count": 34,
   "id": "5bf9d201",
   "metadata": {},
   "outputs": [
    {
     "data": {
      "text/plain": [
       "''"
      ]
     },
     "execution_count": 34,
     "metadata": {},
     "output_type": "execute_result"
    }
   ],
   "source": [
    "stringReverse(\"abc\")"
   ]
  },
  {
   "cell_type": "code",
   "execution_count": 35,
   "id": "fa91e33a",
   "metadata": {},
   "outputs": [],
   "source": [
    "s = \"heklo\""
   ]
  },
  {
   "cell_type": "code",
   "execution_count": 36,
   "id": "37361433",
   "metadata": {},
   "outputs": [],
   "source": [
    "for i in range(0,len(s),-1):\n",
    "        result += s[i]"
   ]
  },
  {
   "cell_type": "code",
   "execution_count": 37,
   "id": "9fbb4f64",
   "metadata": {},
   "outputs": [],
   "source": [
    "def stringReverse(s):\n",
    "    if len(s) == 0:\n",
    "        return \"\"\n",
    "    else:\n",
    "        result = \"\"\n",
    "        for i in range(0,len(s),-1):\n",
    "            result += s[i]\n",
    "    return result"
   ]
  },
  {
   "cell_type": "code",
   "execution_count": 38,
   "id": "35effad8",
   "metadata": {},
   "outputs": [],
   "source": [
    "def stringReverse(s):\n",
    "    result = \"\"\n",
    "    for i in range(0,len(s),-1):\n",
    "        result += s[i]\n",
    "    return result"
   ]
  },
  {
   "cell_type": "code",
   "execution_count": 39,
   "id": "790e905a",
   "metadata": {},
   "outputs": [
    {
     "data": {
      "text/plain": [
       "''"
      ]
     },
     "execution_count": 39,
     "metadata": {},
     "output_type": "execute_result"
    }
   ],
   "source": [
    "stringReverse(\"abc\")"
   ]
  },
  {
   "cell_type": "code",
   "execution_count": 40,
   "id": "a5a5e0ec",
   "metadata": {},
   "outputs": [
    {
     "name": "stdout",
     "output_type": "stream",
     "text": [
      "\n"
     ]
    }
   ],
   "source": [
    "result = \"\"\n",
    "for i in range(0,len(s),-1):\n",
    "    result += s[i]\n",
    "print(result)"
   ]
  },
  {
   "cell_type": "code",
   "execution_count": 41,
   "id": "1557cb9f",
   "metadata": {},
   "outputs": [],
   "source": [
    "for i in range(0, 10, -1):\n",
    "    print(i)"
   ]
  },
  {
   "cell_type": "code",
   "execution_count": 42,
   "id": "66c08d88",
   "metadata": {},
   "outputs": [
    {
     "name": "stdout",
     "output_type": "stream",
     "text": [
      "9\n",
      "8\n",
      "7\n",
      "6\n",
      "5\n",
      "4\n",
      "3\n",
      "2\n",
      "1\n",
      "0\n"
     ]
    }
   ],
   "source": [
    "for i in reversed(range(0, 10)):\n",
    "    print(i)"
   ]
  },
  {
   "cell_type": "code",
   "execution_count": 43,
   "id": "7a906672",
   "metadata": {},
   "outputs": [],
   "source": [
    "def stringReverse(s):\n",
    "    if len(s) == 0:\n",
    "        return \"\"\n",
    "    else:\n",
    "        result = \"\"\n",
    "        for i in reversed(range(0,len(s))):\n",
    "            result += s[i]\n",
    "    return result"
   ]
  },
  {
   "cell_type": "code",
   "execution_count": 44,
   "id": "242e6e00",
   "metadata": {},
   "outputs": [
    {
     "data": {
      "text/plain": [
       "'cba'"
      ]
     },
     "execution_count": 44,
     "metadata": {},
     "output_type": "execute_result"
    }
   ],
   "source": [
    "stringReverse(\"abc\")"
   ]
  },
  {
   "cell_type": "code",
   "execution_count": 45,
   "id": "dc2e86ef",
   "metadata": {},
   "outputs": [
    {
     "data": {
      "text/plain": [
       "''"
      ]
     },
     "execution_count": 45,
     "metadata": {},
     "output_type": "execute_result"
    }
   ],
   "source": [
    "stringReverse(\"\")"
   ]
  },
  {
   "cell_type": "code",
   "execution_count": 46,
   "id": "b97a00fd",
   "metadata": {},
   "outputs": [
    {
     "data": {
      "text/plain": [
       "'olleh'"
      ]
     },
     "execution_count": 46,
     "metadata": {},
     "output_type": "execute_result"
    }
   ],
   "source": [
    "stringReverse(\"hello\")"
   ]
  },
  {
   "cell_type": "code",
   "execution_count": 47,
   "id": "19561ad1",
   "metadata": {
    "scrolled": false
   },
   "outputs": [
    {
     "ename": "SyntaxError",
     "evalue": "unexpected EOF while parsing (<ipython-input-47-9cd95170c1bd>, line 1)",
     "output_type": "error",
     "traceback": [
      "\u001b[0;36m  File \u001b[0;32m\"<ipython-input-47-9cd95170c1bd>\"\u001b[0;36m, line \u001b[0;32m1\u001b[0m\n\u001b[0;31m    def stringReverse2(s):\u001b[0m\n\u001b[0m                          ^\u001b[0m\n\u001b[0;31mSyntaxError\u001b[0m\u001b[0;31m:\u001b[0m unexpected EOF while parsing\n"
     ]
    }
   ],
   "source": [
    "def stringReverse2(s):"
   ]
  },
  {
   "cell_type": "code",
   "execution_count": 48,
   "id": "e3dc737f",
   "metadata": {},
   "outputs": [],
   "source": [
    "def stringReverse2(s):\n",
    "    return s[::-1]"
   ]
  },
  {
   "cell_type": "code",
   "execution_count": 49,
   "id": "9f9fe07d",
   "metadata": {},
   "outputs": [
    {
     "data": {
      "text/plain": [
       "'olleh'"
      ]
     },
     "execution_count": 49,
     "metadata": {},
     "output_type": "execute_result"
    }
   ],
   "source": [
    "stringReverse2(\"hello\")"
   ]
  },
  {
   "cell_type": "code",
   "execution_count": 50,
   "id": "b4cc7e89",
   "metadata": {},
   "outputs": [],
   "source": [
    "def getMode(numbers):\n",
    "    max_occur = -1\n",
    "    if len(numbers) == 0:\n",
    "        return None\n",
    "    else:\n",
    "        occurences = {}\n",
    "        for i in numbers:\n",
    "            if occurences.get(i) == None:\n",
    "                occurences[i] = 1\n",
    "            else:\n",
    "                occurences[i] += 1\n",
    "            if occurences[i] > max_occur:\n",
    "                max_occur = occurences[i]\n",
    "    \n",
    "    # get max occurence number\n",
    "    for i in occurences:\n",
    "        if occurences[i] == max_occur:\n",
    "            return i\n",
    "    return None"
   ]
  },
  {
   "cell_type": "code",
   "execution_count": 51,
   "id": "997e6938",
   "metadata": {},
   "outputs": [
    {
     "data": {
      "text/plain": [
       "1"
      ]
     },
     "execution_count": 51,
     "metadata": {},
     "output_type": "execute_result"
    }
   ],
   "source": [
    "getMode([1,1,1,1,2,3,4,1])"
   ]
  },
  {
   "cell_type": "code",
   "execution_count": 53,
   "id": "ea9fddc3",
   "metadata": {},
   "outputs": [
    {
     "data": {
      "text/plain": [
       "3"
      ]
     },
     "execution_count": 53,
     "metadata": {},
     "output_type": "execute_result"
    }
   ],
   "source": [
    "getMode([1,1,1,1,2,3,3,3,3,3,3,3,3,3,4,1])"
   ]
  },
  {
   "cell_type": "code",
   "execution_count": 54,
   "id": "bbb350bc",
   "metadata": {},
   "outputs": [],
   "source": [
    "getMode([])"
   ]
  },
  {
   "cell_type": "code",
   "execution_count": 55,
   "id": "6abfc4f3",
   "metadata": {},
   "outputs": [
    {
     "data": {
      "text/plain": [
       "1"
      ]
     },
     "execution_count": 55,
     "metadata": {},
     "output_type": "execute_result"
    }
   ],
   "source": [
    "getMode([1,1,1,1,1,1,1])"
   ]
  },
  {
   "cell_type": "code",
   "execution_count": 3,
   "id": "71a081b0",
   "metadata": {},
   "outputs": [],
   "source": [
    "def getMean(numbers):\n",
    "    if len(numbers) == 0:\n",
    "        return None\n",
    "    else:\n",
    "        current_sum = 0\n",
    "        for i in numbers:\n",
    "            current_sum += i\n",
    "            current_avg = current_sum/len(numbers)\n",
    "        return current_avg\n",
    "            "
   ]
  },
  {
   "cell_type": "code",
   "execution_count": 4,
   "id": "71fce10b",
   "metadata": {},
   "outputs": [
    {
     "data": {
      "text/plain": [
       "2.5"
      ]
     },
     "execution_count": 4,
     "metadata": {},
     "output_type": "execute_result"
    }
   ],
   "source": [
    "getMean([1,2,3,4])"
   ]
  },
  {
   "cell_type": "code",
   "execution_count": 64,
   "id": "b22fdfcc",
   "metadata": {},
   "outputs": [],
   "source": [
    "def getMedian():\n",
    "    numbers = []\n",
    "    inp = 0\n",
    "    while True:\n",
    "        inp = int(input(\"Enter a number OR type 'exit'\"))\n",
    "        if inp == 'exit':\n",
    "            break\n",
    "        else:\n",
    "            numbers.append(inp)\n",
    "    if len(numbers) == 0:\n",
    "        return None\n",
    "    else:\n",
    "        middle_index = len(numbers)//2\n",
    "        return numbers[middle_index]"
   ]
  },
  {
   "cell_type": "code",
   "execution_count": 65,
   "id": "f63bbfea",
   "metadata": {},
   "outputs": [
    {
     "name": "stdout",
     "output_type": "stream",
     "text": [
      "Enter a number OR type 'exit'1\n",
      "Enter a number OR type 'exit'2\n",
      "Enter a number OR type 'exit'3\n",
      "Enter a number OR type 'exit'4\n",
      "Enter a number OR type 'exit'5\n",
      "Enter a number OR type 'exit'exit\n"
     ]
    },
    {
     "ename": "ValueError",
     "evalue": "invalid literal for int() with base 10: 'exit'",
     "output_type": "error",
     "traceback": [
      "\u001b[0;31m---------------------------------------------------------------------------\u001b[0m",
      "\u001b[0;31mValueError\u001b[0m                                Traceback (most recent call last)",
      "\u001b[0;32m<ipython-input-65-15998446cd9f>\u001b[0m in \u001b[0;36m<module>\u001b[0;34m\u001b[0m\n\u001b[0;32m----> 1\u001b[0;31m \u001b[0mgetMedian\u001b[0m\u001b[0;34m(\u001b[0m\u001b[0;34m)\u001b[0m\u001b[0;34m\u001b[0m\u001b[0;34m\u001b[0m\u001b[0m\n\u001b[0m",
      "\u001b[0;32m<ipython-input-64-69eaa9f8cc15>\u001b[0m in \u001b[0;36mgetMedian\u001b[0;34m()\u001b[0m\n\u001b[1;32m      3\u001b[0m     \u001b[0minp\u001b[0m \u001b[0;34m=\u001b[0m \u001b[0;36m0\u001b[0m\u001b[0;34m\u001b[0m\u001b[0;34m\u001b[0m\u001b[0m\n\u001b[1;32m      4\u001b[0m     \u001b[0;32mwhile\u001b[0m \u001b[0;32mTrue\u001b[0m\u001b[0;34m:\u001b[0m\u001b[0;34m\u001b[0m\u001b[0;34m\u001b[0m\u001b[0m\n\u001b[0;32m----> 5\u001b[0;31m         \u001b[0minp\u001b[0m \u001b[0;34m=\u001b[0m \u001b[0mint\u001b[0m\u001b[0;34m(\u001b[0m\u001b[0minput\u001b[0m\u001b[0;34m(\u001b[0m\u001b[0;34m\"Enter a number OR type 'exit'\"\u001b[0m\u001b[0;34m)\u001b[0m\u001b[0;34m)\u001b[0m\u001b[0;34m\u001b[0m\u001b[0;34m\u001b[0m\u001b[0m\n\u001b[0m\u001b[1;32m      6\u001b[0m         \u001b[0;32mif\u001b[0m \u001b[0minp\u001b[0m \u001b[0;34m==\u001b[0m \u001b[0;34m'exit'\u001b[0m\u001b[0;34m:\u001b[0m\u001b[0;34m\u001b[0m\u001b[0;34m\u001b[0m\u001b[0m\n\u001b[1;32m      7\u001b[0m             \u001b[0;32mbreak\u001b[0m\u001b[0;34m\u001b[0m\u001b[0;34m\u001b[0m\u001b[0m\n",
      "\u001b[0;31mValueError\u001b[0m: invalid literal for int() with base 10: 'exit'"
     ]
    }
   ],
   "source": [
    "getMedian()"
   ]
  },
  {
   "cell_type": "code",
   "execution_count": 60,
   "id": "baaa39ce",
   "metadata": {},
   "outputs": [
    {
     "data": {
      "text/plain": [
       "3"
      ]
     },
     "execution_count": 60,
     "metadata": {},
     "output_type": "execute_result"
    }
   ],
   "source": [
    "getMedian([1,2,3,4])"
   ]
  },
  {
   "cell_type": "code",
   "execution_count": 61,
   "id": "8a055545",
   "metadata": {},
   "outputs": [
    {
     "data": {
      "text/plain": [
       "2"
      ]
     },
     "execution_count": 61,
     "metadata": {},
     "output_type": "execute_result"
    }
   ],
   "source": [
    "getMedian([1,2,5])"
   ]
  },
  {
   "cell_type": "code",
   "execution_count": 62,
   "id": "44257cd9",
   "metadata": {},
   "outputs": [
    {
     "data": {
      "text/plain": [
       "5"
      ]
     },
     "execution_count": 62,
     "metadata": {},
     "output_type": "execute_result"
    }
   ],
   "source": [
    "getMedian([1,5])"
   ]
  },
  {
   "cell_type": "code",
   "execution_count": 63,
   "id": "3064e358",
   "metadata": {},
   "outputs": [
    {
     "data": {
      "text/plain": [
       "5"
      ]
     },
     "execution_count": 63,
     "metadata": {},
     "output_type": "execute_result"
    }
   ],
   "source": [
    "getMedian([5])"
   ]
  },
  {
   "cell_type": "code",
   "execution_count": 5,
   "id": "7081bf5d",
   "metadata": {},
   "outputs": [],
   "source": [
    "def getStandardDeviation(numbers):\n",
    "    if len(numbers) == 0:\n",
    "        return 0\n",
    "    else:\n",
    "        mean = getMean(numbers)\n",
    "        std_deviation = 0\n",
    "        for i in numbers:\n",
    "            std_deviation += (i - mean)**2\n",
    "        return (std_deviation/len(numbers))**0.5"
   ]
  },
  {
   "cell_type": "code",
   "execution_count": 12,
   "id": "b2d6cb2c",
   "metadata": {},
   "outputs": [
    {
     "data": {
      "text/plain": [
       "8.16496580927726"
      ]
     },
     "execution_count": 12,
     "metadata": {},
     "output_type": "execute_result"
    }
   ],
   "source": [
    "getStandardDeviation([10,20,30])"
   ]
  },
  {
   "cell_type": "code",
   "execution_count": 10,
   "id": "1e972506",
   "metadata": {},
   "outputs": [],
   "source": [
    "def getVariance(numbers):\n",
    "    return getStandardDeviation(numbers)**2"
   ]
  },
  {
   "cell_type": "code",
   "execution_count": 11,
   "id": "67b500a6",
   "metadata": {},
   "outputs": [
    {
     "data": {
      "text/plain": [
       "66.66666666666667"
      ]
     },
     "execution_count": 11,
     "metadata": {},
     "output_type": "execute_result"
    }
   ],
   "source": [
    "getVariance([10,20,30])"
   ]
  },
  {
   "cell_type": "code",
   "execution_count": 19,
   "id": "c1fe9a53",
   "metadata": {},
   "outputs": [],
   "source": [
    "def getNormalization(features):\n",
    "    x_min = min(features)\n",
    "    x_max = max(features)\n",
    "    normalized_vals = []\n",
    "    for i in features:\n",
    "        normalized_vals.append((i - x_min)/(x_max - x_min))\n",
    "    return normalized_vals"
   ]
  },
  {
   "cell_type": "code",
   "execution_count": 20,
   "id": "4923fd0a",
   "metadata": {},
   "outputs": [
    {
     "data": {
      "text/plain": [
       "[0.0, 0.3333333333333333, 0.6666666666666666, 1.0]"
      ]
     },
     "execution_count": 20,
     "metadata": {},
     "output_type": "execute_result"
    }
   ],
   "source": [
    "getNormalization([10,20,30,40])"
   ]
  },
  {
   "cell_type": "code",
   "execution_count": 21,
   "id": "22cade5a",
   "metadata": {},
   "outputs": [],
   "source": [
    "def getStandardization(features):\n",
    "    mean = getMean(features)\n",
    "    std_deviation = getStandardDeviation(features)\n",
    "    standardized_vals = []\n",
    "    for i in features:\n",
    "        standardized_vals.append((i - mean)/std_deviation)\n",
    "    return standardized_vals"
   ]
  },
  {
   "cell_type": "code",
   "execution_count": 22,
   "id": "465c881d",
   "metadata": {},
   "outputs": [
    {
     "data": {
      "text/plain": [
       "[-1.3416407864998738,\n",
       " -0.4472135954999579,\n",
       " 0.4472135954999579,\n",
       " 1.3416407864998738]"
      ]
     },
     "execution_count": 22,
     "metadata": {},
     "output_type": "execute_result"
    }
   ],
   "source": [
    "getStandardization([10,20,30,40])"
   ]
  },
  {
   "cell_type": "code",
   "execution_count": 23,
   "id": "24ff357e",
   "metadata": {},
   "outputs": [
    {
     "data": {
      "text/plain": [
       "0.0"
      ]
     },
     "execution_count": 23,
     "metadata": {},
     "output_type": "execute_result"
    }
   ],
   "source": [
    "getMean(getStandardization([10,20,30,40]))"
   ]
  },
  {
   "cell_type": "code",
   "execution_count": null,
   "id": "44466ccb",
   "metadata": {},
   "outputs": [],
   "source": []
  }
 ],
 "metadata": {
  "kernelspec": {
   "display_name": "Python 3",
   "language": "python",
   "name": "python3"
  },
  "language_info": {
   "codemirror_mode": {
    "name": "ipython",
    "version": 3
   },
   "file_extension": ".py",
   "mimetype": "text/x-python",
   "name": "python",
   "nbconvert_exporter": "python",
   "pygments_lexer": "ipython3",
   "version": "3.8.8"
  }
 },
 "nbformat": 4,
 "nbformat_minor": 5
}
